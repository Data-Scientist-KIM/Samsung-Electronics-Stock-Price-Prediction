{
 "cells": [
  {
   "cell_type": "markdown",
   "id": "6c634037",
   "metadata": {},
   "source": [
    "# 삼성전자 주가 예측(Samsung Electronics Stock Analysis)"
   ]
  },
  {
   "cell_type": "markdown",
   "id": "491eecb8",
   "metadata": {},
   "source": [
    "## 문제 상황  \n",
    "\n",
    "증권사 A는 주가의 상승, 하락에 대한 연구를 진행하고 있다. 시가, 고가, 저가, 종가 등 주가에 관련된 데이터와 거래량 같은 추가 정보를 활용하여 주가 상승, 하락에 대해서 예측해보고자 한다."
   ]
  },
  {
   "cell_type": "markdown",
   "id": "4d52cb48",
   "metadata": {},
   "source": [
    "## 문제 해결 프로세스  \n",
    "\n",
    "1. 문제정의\n",
    "\n",
    "- 주가 상승, 하락에 대한 예측 적중률 저조 \n",
    "\n",
    "2. 기대효과\n",
    "\n",
    "- 주가 상승, 하락에 대한 예측 적중률 증가\n",
    "\n",
    "3. 해결방안\n",
    "\n",
    "- 주가 데이터 활용 모델링을 통한 상승, 하락 예측  \n",
    "\n",
    "4. 성과측정\n",
    "\n",
    "- 추후 주가 예측에 대한 적중률"
   ]
  },
  {
   "cell_type": "markdown",
   "id": "720add8c",
   "metadata": {},
   "source": [
    "### 크롤링(crawling)"
   ]
  },
  {
   "cell_type": "code",
   "execution_count": 10,
   "id": "5bd7f633",
   "metadata": {},
   "outputs": [
    {
     "name": "stderr",
     "output_type": "stream",
     "text": [
      "100%|████████████████████████████████████████████████████████████████████████████████| 671/671 [11:54<00:00,  1.06s/it]\n"
     ]
    }
   ],
   "source": [
    "import pandas as pd \n",
    "import time\n",
    "import requests \n",
    "from bs4 import BeautifulSoup\n",
    "from tqdm import tqdm \n",
    "\n",
    "headers = {'User-Agent' : 'Mozilla/5.0 (Macintosh; intel OS X 10_13_6)'}\n",
    "\n",
    "\n",
    "total = []\n",
    "for i in tqdm(range(1,672)):\n",
    "    \n",
    "    url = \"https://finance.naver.com/item/sise_day.naver?code=005930&page={}\".format(i)\n",
    "    url = requests.get(url, headers = headers)\n",
    "    \n",
    "    html = BeautifulSoup(url.text) \n",
    "    \n",
    "    table = html.find('table', class_ = 'type2')\n",
    "    table = pd.read_html(str(table))[0]\n",
    "    table = table.dropna()\n",
    "    \n",
    "    total.append(table)\n",
    "    time.sleep(1) "
   ]
  },
  {
   "cell_type": "markdown",
   "id": "b9d2d069",
   "metadata": {},
   "source": [
    "크롤링 : 인터넷에서 데이터를 수집하는 방법\n",
    "\n",
    "- import time : 시간\n",
    "- import requests : 요청\n",
    "- from bs4 import BeautifulSoup : python으로 HTML 다루는 기능\n",
    "- from tqdm import tqdm : for문의 진행상황을 확인할 수 있는 라이브러리\n",
    "- BeautifulSoup(url.text) : Text를 진짜 HTML로 변환해주는 기능\n",
    "- type2 : 네이버금융 \"삼성전자\"의 type\n",
    "- time.sleep(1) : 숫자로 지정한 초 만큼 시간이 지연"
   ]
  },
  {
   "cell_type": "code",
   "execution_count": 11,
   "id": "16a3a3c1",
   "metadata": {},
   "outputs": [
    {
     "data": {
      "text/plain": [
       "671"
      ]
     },
     "execution_count": 11,
     "metadata": {},
     "output_type": "execute_result"
    }
   ],
   "source": [
    "len(total)"
   ]
  },
  {
   "cell_type": "markdown",
   "id": "d651f5b7",
   "metadata": {},
   "source": [
    "네이버금융에 나와있는 데이터를 수집한 결과, 총 671개의 페이지가 있는 것을 확인할 수 있다"
   ]
  },
  {
   "cell_type": "code",
   "execution_count": 15,
   "id": "cb13ae66",
   "metadata": {},
   "outputs": [
    {
     "data": {
      "text/html": [
       "<div>\n",
       "<style scoped>\n",
       "    .dataframe tbody tr th:only-of-type {\n",
       "        vertical-align: middle;\n",
       "    }\n",
       "\n",
       "    .dataframe tbody tr th {\n",
       "        vertical-align: top;\n",
       "    }\n",
       "\n",
       "    .dataframe thead th {\n",
       "        text-align: right;\n",
       "    }\n",
       "</style>\n",
       "<table border=\"1\" class=\"dataframe\">\n",
       "  <thead>\n",
       "    <tr style=\"text-align: right;\">\n",
       "      <th></th>\n",
       "      <th>날짜</th>\n",
       "      <th>종가</th>\n",
       "      <th>전일비</th>\n",
       "      <th>시가</th>\n",
       "      <th>고가</th>\n",
       "      <th>저가</th>\n",
       "      <th>거래량</th>\n",
       "    </tr>\n",
       "  </thead>\n",
       "  <tbody>\n",
       "    <tr>\n",
       "      <th>0</th>\n",
       "      <td>2023.03.21</td>\n",
       "      <td>60200.0</td>\n",
       "      <td>0.0</td>\n",
       "      <td>60500.0</td>\n",
       "      <td>60700.0</td>\n",
       "      <td>60200.0</td>\n",
       "      <td>3218819.0</td>\n",
       "    </tr>\n",
       "    <tr>\n",
       "      <th>1</th>\n",
       "      <td>2023.03.20</td>\n",
       "      <td>60200.0</td>\n",
       "      <td>1100.0</td>\n",
       "      <td>61100.0</td>\n",
       "      <td>61200.0</td>\n",
       "      <td>60200.0</td>\n",
       "      <td>9618009.0</td>\n",
       "    </tr>\n",
       "    <tr>\n",
       "      <th>2</th>\n",
       "      <td>2023.03.17</td>\n",
       "      <td>61300.0</td>\n",
       "      <td>1400.0</td>\n",
       "      <td>60800.0</td>\n",
       "      <td>61300.0</td>\n",
       "      <td>60600.0</td>\n",
       "      <td>14090110.0</td>\n",
       "    </tr>\n",
       "    <tr>\n",
       "      <th>3</th>\n",
       "      <td>2023.03.16</td>\n",
       "      <td>59900.0</td>\n",
       "      <td>100.0</td>\n",
       "      <td>59200.0</td>\n",
       "      <td>60200.0</td>\n",
       "      <td>59100.0</td>\n",
       "      <td>10611939.0</td>\n",
       "    </tr>\n",
       "    <tr>\n",
       "      <th>4</th>\n",
       "      <td>2023.03.15</td>\n",
       "      <td>59800.0</td>\n",
       "      <td>800.0</td>\n",
       "      <td>60000.0</td>\n",
       "      <td>60300.0</td>\n",
       "      <td>59600.0</td>\n",
       "      <td>10482149.0</td>\n",
       "    </tr>\n",
       "    <tr>\n",
       "      <th>...</th>\n",
       "      <td>...</td>\n",
       "      <td>...</td>\n",
       "      <td>...</td>\n",
       "      <td>...</td>\n",
       "      <td>...</td>\n",
       "      <td>...</td>\n",
       "      <td>...</td>\n",
       "    </tr>\n",
       "    <tr>\n",
       "      <th>6705</th>\n",
       "      <td>1996.06.29</td>\n",
       "      <td>68500.0</td>\n",
       "      <td>400.0</td>\n",
       "      <td>68100.0</td>\n",
       "      <td>69100.0</td>\n",
       "      <td>67100.0</td>\n",
       "      <td>96710.0</td>\n",
       "    </tr>\n",
       "    <tr>\n",
       "      <th>6706</th>\n",
       "      <td>1996.06.28</td>\n",
       "      <td>68100.0</td>\n",
       "      <td>1200.0</td>\n",
       "      <td>67300.0</td>\n",
       "      <td>68500.0</td>\n",
       "      <td>67200.0</td>\n",
       "      <td>138430.0</td>\n",
       "    </tr>\n",
       "    <tr>\n",
       "      <th>6707</th>\n",
       "      <td>1996.06.27</td>\n",
       "      <td>66900.0</td>\n",
       "      <td>800.0</td>\n",
       "      <td>67500.0</td>\n",
       "      <td>67700.0</td>\n",
       "      <td>66700.0</td>\n",
       "      <td>155450.0</td>\n",
       "    </tr>\n",
       "    <tr>\n",
       "      <th>6708</th>\n",
       "      <td>1996.06.26</td>\n",
       "      <td>67700.0</td>\n",
       "      <td>200.0</td>\n",
       "      <td>67600.0</td>\n",
       "      <td>67900.0</td>\n",
       "      <td>66000.0</td>\n",
       "      <td>136630.0</td>\n",
       "    </tr>\n",
       "    <tr>\n",
       "      <th>6709</th>\n",
       "      <td>1996.06.25</td>\n",
       "      <td>67500.0</td>\n",
       "      <td>0.0</td>\n",
       "      <td>66500.0</td>\n",
       "      <td>68300.0</td>\n",
       "      <td>65600.0</td>\n",
       "      <td>112960.0</td>\n",
       "    </tr>\n",
       "  </tbody>\n",
       "</table>\n",
       "<p>6710 rows × 7 columns</p>\n",
       "</div>"
      ],
      "text/plain": [
       "              날짜       종가     전일비       시가       고가       저가         거래량\n",
       "0     2023.03.21  60200.0     0.0  60500.0  60700.0  60200.0   3218819.0\n",
       "1     2023.03.20  60200.0  1100.0  61100.0  61200.0  60200.0   9618009.0\n",
       "2     2023.03.17  61300.0  1400.0  60800.0  61300.0  60600.0  14090110.0\n",
       "3     2023.03.16  59900.0   100.0  59200.0  60200.0  59100.0  10611939.0\n",
       "4     2023.03.15  59800.0   800.0  60000.0  60300.0  59600.0  10482149.0\n",
       "...          ...      ...     ...      ...      ...      ...         ...\n",
       "6705  1996.06.29  68500.0   400.0  68100.0  69100.0  67100.0     96710.0\n",
       "6706  1996.06.28  68100.0  1200.0  67300.0  68500.0  67200.0    138430.0\n",
       "6707  1996.06.27  66900.0   800.0  67500.0  67700.0  66700.0    155450.0\n",
       "6708  1996.06.26  67700.0   200.0  67600.0  67900.0  66000.0    136630.0\n",
       "6709  1996.06.25  67500.0     0.0  66500.0  68300.0  65600.0    112960.0\n",
       "\n",
       "[6710 rows x 7 columns]"
      ]
     },
     "execution_count": 15,
     "metadata": {},
     "output_type": "execute_result"
    }
   ],
   "source": [
    "samsung = pd.concat(total, ignore_index = True)\n",
    "samsung"
   ]
  },
  {
   "cell_type": "markdown",
   "id": "6e97c056",
   "metadata": {},
   "source": [
    "concat을 통해 모든 페이지를 연결시킨다"
   ]
  },
  {
   "cell_type": "code",
   "execution_count": 17,
   "id": "542de0d4",
   "metadata": {},
   "outputs": [
    {
     "data": {
      "text/html": [
       "<div>\n",
       "<style scoped>\n",
       "    .dataframe tbody tr th:only-of-type {\n",
       "        vertical-align: middle;\n",
       "    }\n",
       "\n",
       "    .dataframe tbody tr th {\n",
       "        vertical-align: top;\n",
       "    }\n",
       "\n",
       "    .dataframe thead th {\n",
       "        text-align: right;\n",
       "    }\n",
       "</style>\n",
       "<table border=\"1\" class=\"dataframe\">\n",
       "  <thead>\n",
       "    <tr style=\"text-align: right;\">\n",
       "      <th></th>\n",
       "      <th>날짜</th>\n",
       "      <th>종가</th>\n",
       "      <th>전일비</th>\n",
       "      <th>시가</th>\n",
       "      <th>고가</th>\n",
       "      <th>저가</th>\n",
       "      <th>거래량</th>\n",
       "    </tr>\n",
       "  </thead>\n",
       "  <tbody>\n",
       "    <tr>\n",
       "      <th>0</th>\n",
       "      <td>2023.03.21</td>\n",
       "      <td>60200.0</td>\n",
       "      <td>0.0</td>\n",
       "      <td>60500.0</td>\n",
       "      <td>60700.0</td>\n",
       "      <td>60200.0</td>\n",
       "      <td>3218819.0</td>\n",
       "    </tr>\n",
       "    <tr>\n",
       "      <th>1</th>\n",
       "      <td>2023.03.20</td>\n",
       "      <td>60200.0</td>\n",
       "      <td>1100.0</td>\n",
       "      <td>61100.0</td>\n",
       "      <td>61200.0</td>\n",
       "      <td>60200.0</td>\n",
       "      <td>9618009.0</td>\n",
       "    </tr>\n",
       "    <tr>\n",
       "      <th>2</th>\n",
       "      <td>2023.03.17</td>\n",
       "      <td>61300.0</td>\n",
       "      <td>1400.0</td>\n",
       "      <td>60800.0</td>\n",
       "      <td>61300.0</td>\n",
       "      <td>60600.0</td>\n",
       "      <td>14090110.0</td>\n",
       "    </tr>\n",
       "    <tr>\n",
       "      <th>3</th>\n",
       "      <td>2023.03.16</td>\n",
       "      <td>59900.0</td>\n",
       "      <td>100.0</td>\n",
       "      <td>59200.0</td>\n",
       "      <td>60200.0</td>\n",
       "      <td>59100.0</td>\n",
       "      <td>10611939.0</td>\n",
       "    </tr>\n",
       "    <tr>\n",
       "      <th>4</th>\n",
       "      <td>2023.03.15</td>\n",
       "      <td>59800.0</td>\n",
       "      <td>800.0</td>\n",
       "      <td>60000.0</td>\n",
       "      <td>60300.0</td>\n",
       "      <td>59600.0</td>\n",
       "      <td>10482149.0</td>\n",
       "    </tr>\n",
       "    <tr>\n",
       "      <th>...</th>\n",
       "      <td>...</td>\n",
       "      <td>...</td>\n",
       "      <td>...</td>\n",
       "      <td>...</td>\n",
       "      <td>...</td>\n",
       "      <td>...</td>\n",
       "      <td>...</td>\n",
       "    </tr>\n",
       "    <tr>\n",
       "      <th>6705</th>\n",
       "      <td>1996.06.29</td>\n",
       "      <td>68500.0</td>\n",
       "      <td>400.0</td>\n",
       "      <td>68100.0</td>\n",
       "      <td>69100.0</td>\n",
       "      <td>67100.0</td>\n",
       "      <td>96710.0</td>\n",
       "    </tr>\n",
       "    <tr>\n",
       "      <th>6706</th>\n",
       "      <td>1996.06.28</td>\n",
       "      <td>68100.0</td>\n",
       "      <td>1200.0</td>\n",
       "      <td>67300.0</td>\n",
       "      <td>68500.0</td>\n",
       "      <td>67200.0</td>\n",
       "      <td>138430.0</td>\n",
       "    </tr>\n",
       "    <tr>\n",
       "      <th>6707</th>\n",
       "      <td>1996.06.27</td>\n",
       "      <td>66900.0</td>\n",
       "      <td>800.0</td>\n",
       "      <td>67500.0</td>\n",
       "      <td>67700.0</td>\n",
       "      <td>66700.0</td>\n",
       "      <td>155450.0</td>\n",
       "    </tr>\n",
       "    <tr>\n",
       "      <th>6708</th>\n",
       "      <td>1996.06.26</td>\n",
       "      <td>67700.0</td>\n",
       "      <td>200.0</td>\n",
       "      <td>67600.0</td>\n",
       "      <td>67900.0</td>\n",
       "      <td>66000.0</td>\n",
       "      <td>136630.0</td>\n",
       "    </tr>\n",
       "    <tr>\n",
       "      <th>6709</th>\n",
       "      <td>1996.06.25</td>\n",
       "      <td>67500.0</td>\n",
       "      <td>0.0</td>\n",
       "      <td>66500.0</td>\n",
       "      <td>68300.0</td>\n",
       "      <td>65600.0</td>\n",
       "      <td>112960.0</td>\n",
       "    </tr>\n",
       "  </tbody>\n",
       "</table>\n",
       "<p>6710 rows × 7 columns</p>\n",
       "</div>"
      ],
      "text/plain": [
       "              날짜       종가     전일비       시가       고가       저가         거래량\n",
       "0     2023.03.21  60200.0     0.0  60500.0  60700.0  60200.0   3218819.0\n",
       "1     2023.03.20  60200.0  1100.0  61100.0  61200.0  60200.0   9618009.0\n",
       "2     2023.03.17  61300.0  1400.0  60800.0  61300.0  60600.0  14090110.0\n",
       "3     2023.03.16  59900.0   100.0  59200.0  60200.0  59100.0  10611939.0\n",
       "4     2023.03.15  59800.0   800.0  60000.0  60300.0  59600.0  10482149.0\n",
       "...          ...      ...     ...      ...      ...      ...         ...\n",
       "6705  1996.06.29  68500.0   400.0  68100.0  69100.0  67100.0     96710.0\n",
       "6706  1996.06.28  68100.0  1200.0  67300.0  68500.0  67200.0    138430.0\n",
       "6707  1996.06.27  66900.0   800.0  67500.0  67700.0  66700.0    155450.0\n",
       "6708  1996.06.26  67700.0   200.0  67600.0  67900.0  66000.0    136630.0\n",
       "6709  1996.06.25  67500.0     0.0  66500.0  68300.0  65600.0    112960.0\n",
       "\n",
       "[6710 rows x 7 columns]"
      ]
     },
     "execution_count": 17,
     "metadata": {},
     "output_type": "execute_result"
    }
   ],
   "source": [
    "samsung = samsung[::-1]\n",
    "samsung.to_excel('samsung.xlsx')\n",
    "samsung"
   ]
  },
  {
   "cell_type": "markdown",
   "id": "85bffbc1",
   "metadata": {},
   "source": [
    "삼성전자 주가 데이터를 엑셀 파일로 저장한다"
   ]
  },
  {
   "cell_type": "code",
   "execution_count": 41,
   "id": "52d8f065",
   "metadata": {},
   "outputs": [
    {
     "data": {
      "text/html": [
       "<div>\n",
       "<style scoped>\n",
       "    .dataframe tbody tr th:only-of-type {\n",
       "        vertical-align: middle;\n",
       "    }\n",
       "\n",
       "    .dataframe tbody tr th {\n",
       "        vertical-align: top;\n",
       "    }\n",
       "\n",
       "    .dataframe thead th {\n",
       "        text-align: right;\n",
       "    }\n",
       "</style>\n",
       "<table border=\"1\" class=\"dataframe\">\n",
       "  <thead>\n",
       "    <tr style=\"text-align: right;\">\n",
       "      <th></th>\n",
       "      <th>Unnamed: 0</th>\n",
       "      <th>날짜</th>\n",
       "      <th>종가</th>\n",
       "      <th>전일비</th>\n",
       "      <th>시가</th>\n",
       "      <th>고가</th>\n",
       "      <th>저가</th>\n",
       "      <th>거래량</th>\n",
       "    </tr>\n",
       "  </thead>\n",
       "  <tbody>\n",
       "    <tr>\n",
       "      <th>0</th>\n",
       "      <td>0</td>\n",
       "      <td>2023.03.21</td>\n",
       "      <td>60200</td>\n",
       "      <td>0</td>\n",
       "      <td>60500</td>\n",
       "      <td>60700</td>\n",
       "      <td>60200</td>\n",
       "      <td>3218819</td>\n",
       "    </tr>\n",
       "    <tr>\n",
       "      <th>1</th>\n",
       "      <td>1</td>\n",
       "      <td>2023.03.20</td>\n",
       "      <td>60200</td>\n",
       "      <td>1100</td>\n",
       "      <td>61100</td>\n",
       "      <td>61200</td>\n",
       "      <td>60200</td>\n",
       "      <td>9618009</td>\n",
       "    </tr>\n",
       "    <tr>\n",
       "      <th>2</th>\n",
       "      <td>2</td>\n",
       "      <td>2023.03.17</td>\n",
       "      <td>61300</td>\n",
       "      <td>1400</td>\n",
       "      <td>60800</td>\n",
       "      <td>61300</td>\n",
       "      <td>60600</td>\n",
       "      <td>14090110</td>\n",
       "    </tr>\n",
       "    <tr>\n",
       "      <th>3</th>\n",
       "      <td>3</td>\n",
       "      <td>2023.03.16</td>\n",
       "      <td>59900</td>\n",
       "      <td>100</td>\n",
       "      <td>59200</td>\n",
       "      <td>60200</td>\n",
       "      <td>59100</td>\n",
       "      <td>10611939</td>\n",
       "    </tr>\n",
       "    <tr>\n",
       "      <th>4</th>\n",
       "      <td>4</td>\n",
       "      <td>2023.03.15</td>\n",
       "      <td>59800</td>\n",
       "      <td>800</td>\n",
       "      <td>60000</td>\n",
       "      <td>60300</td>\n",
       "      <td>59600</td>\n",
       "      <td>10482149</td>\n",
       "    </tr>\n",
       "  </tbody>\n",
       "</table>\n",
       "</div>"
      ],
      "text/plain": [
       "   Unnamed: 0          날짜     종가   전일비     시가     고가     저가       거래량\n",
       "0           0  2023.03.21  60200     0  60500  60700  60200   3218819\n",
       "1           1  2023.03.20  60200  1100  61100  61200  60200   9618009\n",
       "2           2  2023.03.17  61300  1400  60800  61300  60600  14090110\n",
       "3           3  2023.03.16  59900   100  59200  60200  59100  10611939\n",
       "4           4  2023.03.15  59800   800  60000  60300  59600  10482149"
      ]
     },
     "execution_count": 41,
     "metadata": {},
     "output_type": "execute_result"
    }
   ],
   "source": [
    "import pandas as pd\n",
    "import warnings\n",
    "warnings.filterwarnings('ignore')\n",
    "\n",
    "df = pd.read_excel('C:/Users/USER/Desktop/Practice Project - ML/삼성전자 주가 예측/samsung.xlsx')\n",
    "df.head()"
   ]
  },
  {
   "cell_type": "code",
   "execution_count": 42,
   "id": "608ba4ee",
   "metadata": {},
   "outputs": [
    {
     "data": {
      "text/html": [
       "<div>\n",
       "<style scoped>\n",
       "    .dataframe tbody tr th:only-of-type {\n",
       "        vertical-align: middle;\n",
       "    }\n",
       "\n",
       "    .dataframe tbody tr th {\n",
       "        vertical-align: top;\n",
       "    }\n",
       "\n",
       "    .dataframe thead th {\n",
       "        text-align: right;\n",
       "    }\n",
       "</style>\n",
       "<table border=\"1\" class=\"dataframe\">\n",
       "  <thead>\n",
       "    <tr style=\"text-align: right;\">\n",
       "      <th></th>\n",
       "      <th>날짜</th>\n",
       "      <th>종가</th>\n",
       "      <th>전일비</th>\n",
       "      <th>시가</th>\n",
       "      <th>고가</th>\n",
       "      <th>저가</th>\n",
       "      <th>거래량</th>\n",
       "    </tr>\n",
       "  </thead>\n",
       "  <tbody>\n",
       "    <tr>\n",
       "      <th>0</th>\n",
       "      <td>2023.03.21</td>\n",
       "      <td>60200</td>\n",
       "      <td>0</td>\n",
       "      <td>60500</td>\n",
       "      <td>60700</td>\n",
       "      <td>60200</td>\n",
       "      <td>3218819</td>\n",
       "    </tr>\n",
       "    <tr>\n",
       "      <th>1</th>\n",
       "      <td>2023.03.20</td>\n",
       "      <td>60200</td>\n",
       "      <td>1100</td>\n",
       "      <td>61100</td>\n",
       "      <td>61200</td>\n",
       "      <td>60200</td>\n",
       "      <td>9618009</td>\n",
       "    </tr>\n",
       "    <tr>\n",
       "      <th>2</th>\n",
       "      <td>2023.03.17</td>\n",
       "      <td>61300</td>\n",
       "      <td>1400</td>\n",
       "      <td>60800</td>\n",
       "      <td>61300</td>\n",
       "      <td>60600</td>\n",
       "      <td>14090110</td>\n",
       "    </tr>\n",
       "    <tr>\n",
       "      <th>3</th>\n",
       "      <td>2023.03.16</td>\n",
       "      <td>59900</td>\n",
       "      <td>100</td>\n",
       "      <td>59200</td>\n",
       "      <td>60200</td>\n",
       "      <td>59100</td>\n",
       "      <td>10611939</td>\n",
       "    </tr>\n",
       "    <tr>\n",
       "      <th>4</th>\n",
       "      <td>2023.03.15</td>\n",
       "      <td>59800</td>\n",
       "      <td>800</td>\n",
       "      <td>60000</td>\n",
       "      <td>60300</td>\n",
       "      <td>59600</td>\n",
       "      <td>10482149</td>\n",
       "    </tr>\n",
       "    <tr>\n",
       "      <th>...</th>\n",
       "      <td>...</td>\n",
       "      <td>...</td>\n",
       "      <td>...</td>\n",
       "      <td>...</td>\n",
       "      <td>...</td>\n",
       "      <td>...</td>\n",
       "      <td>...</td>\n",
       "    </tr>\n",
       "    <tr>\n",
       "      <th>6705</th>\n",
       "      <td>1996.06.29</td>\n",
       "      <td>68500</td>\n",
       "      <td>400</td>\n",
       "      <td>68100</td>\n",
       "      <td>69100</td>\n",
       "      <td>67100</td>\n",
       "      <td>96710</td>\n",
       "    </tr>\n",
       "    <tr>\n",
       "      <th>6706</th>\n",
       "      <td>1996.06.28</td>\n",
       "      <td>68100</td>\n",
       "      <td>1200</td>\n",
       "      <td>67300</td>\n",
       "      <td>68500</td>\n",
       "      <td>67200</td>\n",
       "      <td>138430</td>\n",
       "    </tr>\n",
       "    <tr>\n",
       "      <th>6707</th>\n",
       "      <td>1996.06.27</td>\n",
       "      <td>66900</td>\n",
       "      <td>800</td>\n",
       "      <td>67500</td>\n",
       "      <td>67700</td>\n",
       "      <td>66700</td>\n",
       "      <td>155450</td>\n",
       "    </tr>\n",
       "    <tr>\n",
       "      <th>6708</th>\n",
       "      <td>1996.06.26</td>\n",
       "      <td>67700</td>\n",
       "      <td>200</td>\n",
       "      <td>67600</td>\n",
       "      <td>67900</td>\n",
       "      <td>66000</td>\n",
       "      <td>136630</td>\n",
       "    </tr>\n",
       "    <tr>\n",
       "      <th>6709</th>\n",
       "      <td>1996.06.25</td>\n",
       "      <td>67500</td>\n",
       "      <td>0</td>\n",
       "      <td>66500</td>\n",
       "      <td>68300</td>\n",
       "      <td>65600</td>\n",
       "      <td>112960</td>\n",
       "    </tr>\n",
       "  </tbody>\n",
       "</table>\n",
       "<p>6710 rows × 7 columns</p>\n",
       "</div>"
      ],
      "text/plain": [
       "              날짜     종가   전일비     시가     고가     저가       거래량\n",
       "0     2023.03.21  60200     0  60500  60700  60200   3218819\n",
       "1     2023.03.20  60200  1100  61100  61200  60200   9618009\n",
       "2     2023.03.17  61300  1400  60800  61300  60600  14090110\n",
       "3     2023.03.16  59900   100  59200  60200  59100  10611939\n",
       "4     2023.03.15  59800   800  60000  60300  59600  10482149\n",
       "...          ...    ...   ...    ...    ...    ...       ...\n",
       "6705  1996.06.29  68500   400  68100  69100  67100     96710\n",
       "6706  1996.06.28  68100  1200  67300  68500  67200    138430\n",
       "6707  1996.06.27  66900   800  67500  67700  66700    155450\n",
       "6708  1996.06.26  67700   200  67600  67900  66000    136630\n",
       "6709  1996.06.25  67500     0  66500  68300  65600    112960\n",
       "\n",
       "[6710 rows x 7 columns]"
      ]
     },
     "execution_count": 42,
     "metadata": {},
     "output_type": "execute_result"
    }
   ],
   "source": [
    "df = df.drop(columns = 'Unnamed: 0')\n",
    "df"
   ]
  },
  {
   "cell_type": "markdown",
   "id": "c3945961",
   "metadata": {},
   "source": [
    "주가 예측에 필요하지 않은 컬럼은 제거한다"
   ]
  },
  {
   "cell_type": "code",
   "execution_count": 43,
   "id": "110c2dde",
   "metadata": {},
   "outputs": [
    {
     "data": {
      "text/html": [
       "<div>\n",
       "<style scoped>\n",
       "    .dataframe tbody tr th:only-of-type {\n",
       "        vertical-align: middle;\n",
       "    }\n",
       "\n",
       "    .dataframe tbody tr th {\n",
       "        vertical-align: top;\n",
       "    }\n",
       "\n",
       "    .dataframe thead th {\n",
       "        text-align: right;\n",
       "    }\n",
       "</style>\n",
       "<table border=\"1\" class=\"dataframe\">\n",
       "  <thead>\n",
       "    <tr style=\"text-align: right;\">\n",
       "      <th></th>\n",
       "      <th>날짜</th>\n",
       "      <th>종가</th>\n",
       "      <th>전일비</th>\n",
       "      <th>시가</th>\n",
       "      <th>고가</th>\n",
       "      <th>저가</th>\n",
       "      <th>거래량</th>\n",
       "    </tr>\n",
       "  </thead>\n",
       "  <tbody>\n",
       "    <tr>\n",
       "      <th>0</th>\n",
       "      <td>1996.06.25</td>\n",
       "      <td>67500</td>\n",
       "      <td>0</td>\n",
       "      <td>66500</td>\n",
       "      <td>68300</td>\n",
       "      <td>65600</td>\n",
       "      <td>112960</td>\n",
       "    </tr>\n",
       "    <tr>\n",
       "      <th>1</th>\n",
       "      <td>1996.06.26</td>\n",
       "      <td>67700</td>\n",
       "      <td>200</td>\n",
       "      <td>67600</td>\n",
       "      <td>67900</td>\n",
       "      <td>66000</td>\n",
       "      <td>136630</td>\n",
       "    </tr>\n",
       "    <tr>\n",
       "      <th>2</th>\n",
       "      <td>1996.06.27</td>\n",
       "      <td>66900</td>\n",
       "      <td>800</td>\n",
       "      <td>67500</td>\n",
       "      <td>67700</td>\n",
       "      <td>66700</td>\n",
       "      <td>155450</td>\n",
       "    </tr>\n",
       "    <tr>\n",
       "      <th>3</th>\n",
       "      <td>1996.06.28</td>\n",
       "      <td>68100</td>\n",
       "      <td>1200</td>\n",
       "      <td>67300</td>\n",
       "      <td>68500</td>\n",
       "      <td>67200</td>\n",
       "      <td>138430</td>\n",
       "    </tr>\n",
       "    <tr>\n",
       "      <th>4</th>\n",
       "      <td>1996.06.29</td>\n",
       "      <td>68500</td>\n",
       "      <td>400</td>\n",
       "      <td>68100</td>\n",
       "      <td>69100</td>\n",
       "      <td>67100</td>\n",
       "      <td>96710</td>\n",
       "    </tr>\n",
       "    <tr>\n",
       "      <th>...</th>\n",
       "      <td>...</td>\n",
       "      <td>...</td>\n",
       "      <td>...</td>\n",
       "      <td>...</td>\n",
       "      <td>...</td>\n",
       "      <td>...</td>\n",
       "      <td>...</td>\n",
       "    </tr>\n",
       "    <tr>\n",
       "      <th>6705</th>\n",
       "      <td>2023.03.15</td>\n",
       "      <td>59800</td>\n",
       "      <td>800</td>\n",
       "      <td>60000</td>\n",
       "      <td>60300</td>\n",
       "      <td>59600</td>\n",
       "      <td>10482149</td>\n",
       "    </tr>\n",
       "    <tr>\n",
       "      <th>6706</th>\n",
       "      <td>2023.03.16</td>\n",
       "      <td>59900</td>\n",
       "      <td>100</td>\n",
       "      <td>59200</td>\n",
       "      <td>60200</td>\n",
       "      <td>59100</td>\n",
       "      <td>10611939</td>\n",
       "    </tr>\n",
       "    <tr>\n",
       "      <th>6707</th>\n",
       "      <td>2023.03.17</td>\n",
       "      <td>61300</td>\n",
       "      <td>1400</td>\n",
       "      <td>60800</td>\n",
       "      <td>61300</td>\n",
       "      <td>60600</td>\n",
       "      <td>14090110</td>\n",
       "    </tr>\n",
       "    <tr>\n",
       "      <th>6708</th>\n",
       "      <td>2023.03.20</td>\n",
       "      <td>60200</td>\n",
       "      <td>1100</td>\n",
       "      <td>61100</td>\n",
       "      <td>61200</td>\n",
       "      <td>60200</td>\n",
       "      <td>9618009</td>\n",
       "    </tr>\n",
       "    <tr>\n",
       "      <th>6709</th>\n",
       "      <td>2023.03.21</td>\n",
       "      <td>60200</td>\n",
       "      <td>0</td>\n",
       "      <td>60500</td>\n",
       "      <td>60700</td>\n",
       "      <td>60200</td>\n",
       "      <td>3218819</td>\n",
       "    </tr>\n",
       "  </tbody>\n",
       "</table>\n",
       "<p>6710 rows × 7 columns</p>\n",
       "</div>"
      ],
      "text/plain": [
       "              날짜     종가   전일비     시가     고가     저가       거래량\n",
       "0     1996.06.25  67500     0  66500  68300  65600    112960\n",
       "1     1996.06.26  67700   200  67600  67900  66000    136630\n",
       "2     1996.06.27  66900   800  67500  67700  66700    155450\n",
       "3     1996.06.28  68100  1200  67300  68500  67200    138430\n",
       "4     1996.06.29  68500   400  68100  69100  67100     96710\n",
       "...          ...    ...   ...    ...    ...    ...       ...\n",
       "6705  2023.03.15  59800   800  60000  60300  59600  10482149\n",
       "6706  2023.03.16  59900   100  59200  60200  59100  10611939\n",
       "6707  2023.03.17  61300  1400  60800  61300  60600  14090110\n",
       "6708  2023.03.20  60200  1100  61100  61200  60200   9618009\n",
       "6709  2023.03.21  60200     0  60500  60700  60200   3218819\n",
       "\n",
       "[6710 rows x 7 columns]"
      ]
     },
     "execution_count": 43,
     "metadata": {},
     "output_type": "execute_result"
    }
   ],
   "source": [
    "df = df[::-1].reset_index(drop=True)\n",
    "df"
   ]
  },
  {
   "cell_type": "code",
   "execution_count": 44,
   "id": "4380adf3",
   "metadata": {},
   "outputs": [
    {
     "name": "stdout",
     "output_type": "stream",
     "text": [
      "<class 'pandas.core.frame.DataFrame'>\n",
      "RangeIndex: 6710 entries, 0 to 6709\n",
      "Data columns (total 7 columns):\n",
      " #   Column  Non-Null Count  Dtype \n",
      "---  ------  --------------  ----- \n",
      " 0   날짜      6710 non-null   object\n",
      " 1   종가      6710 non-null   int64 \n",
      " 2   전일비     6710 non-null   int64 \n",
      " 3   시가      6710 non-null   int64 \n",
      " 4   고가      6710 non-null   int64 \n",
      " 5   저가      6710 non-null   int64 \n",
      " 6   거래량     6710 non-null   int64 \n",
      "dtypes: int64(6), object(1)\n",
      "memory usage: 367.1+ KB\n"
     ]
    }
   ],
   "source": [
    "df.info()"
   ]
  },
  {
   "cell_type": "code",
   "execution_count": 45,
   "id": "b46c2e15",
   "metadata": {},
   "outputs": [
    {
     "data": {
      "text/plain": [
       "날짜     0\n",
       "종가     0\n",
       "전일비    0\n",
       "시가     0\n",
       "고가     0\n",
       "저가     0\n",
       "거래량    0\n",
       "dtype: int64"
      ]
     },
     "execution_count": 45,
     "metadata": {},
     "output_type": "execute_result"
    }
   ],
   "source": [
    "df.isnull().sum()"
   ]
  },
  {
   "cell_type": "markdown",
   "id": "f5a60740",
   "metadata": {},
   "source": [
    "#### 변수 해석 2가지  \n",
    "\n",
    "1. 결측치 존재 여부\n",
    "\n",
    "- 전체 데이터에서 결측치가 존재하지 않는다.\n",
    "\n",
    "- 만약, 결측치가 존재했다면 전체 데이터의 약 5%정도 미만의 개수는 제거해도 좋다.\n",
    "\n",
    "- 결측치를 대체하는 경우, object형태는 최빈값으로 대체하고, int64 or float64형태는 평균으로 대체하거나 KNN을 사용할 수 있다.\n",
    "\n",
    "2. 데이터 타입 설명\n",
    "\n",
    "- object형태 1개, int64형태 6개로 총 7개의 변수가 존재한다."
   ]
  },
  {
   "cell_type": "markdown",
   "id": "7c0251b4",
   "metadata": {},
   "source": [
    "# ML 활용 가격 예측"
   ]
  },
  {
   "cell_type": "code",
   "execution_count": 69,
   "id": "5178fdde",
   "metadata": {},
   "outputs": [],
   "source": [
    "from sklearn.model_selection import train_test_split\n",
    "from sklearn.neighbors import KNeighborsRegressor\n",
    "from sklearn.linear_model import LinearRegression\n",
    "import numpy as np\n",
    "\n",
    "X = df[['종가','시가','고가','저가','거래량']]\n",
    "y = df['종가']"
   ]
  },
  {
   "cell_type": "markdown",
   "id": "c3dc11c6",
   "metadata": {},
   "source": [
    "모델링에 필요없는 컬럼은 제거한다"
   ]
  },
  {
   "cell_type": "code",
   "execution_count": 70,
   "id": "7063fd7c",
   "metadata": {},
   "outputs": [
    {
     "data": {
      "text/html": [
       "<div>\n",
       "<style scoped>\n",
       "    .dataframe tbody tr th:only-of-type {\n",
       "        vertical-align: middle;\n",
       "    }\n",
       "\n",
       "    .dataframe tbody tr th {\n",
       "        vertical-align: top;\n",
       "    }\n",
       "\n",
       "    .dataframe thead th {\n",
       "        text-align: right;\n",
       "    }\n",
       "</style>\n",
       "<table border=\"1\" class=\"dataframe\">\n",
       "  <thead>\n",
       "    <tr style=\"text-align: right;\">\n",
       "      <th></th>\n",
       "      <th>종가</th>\n",
       "      <th>시가</th>\n",
       "      <th>고가</th>\n",
       "      <th>저가</th>\n",
       "      <th>거래량</th>\n",
       "    </tr>\n",
       "  </thead>\n",
       "  <tbody>\n",
       "    <tr>\n",
       "      <th>0</th>\n",
       "      <td>67500</td>\n",
       "      <td>66500</td>\n",
       "      <td>68300</td>\n",
       "      <td>65600</td>\n",
       "      <td>112960</td>\n",
       "    </tr>\n",
       "    <tr>\n",
       "      <th>1</th>\n",
       "      <td>67700</td>\n",
       "      <td>67600</td>\n",
       "      <td>67900</td>\n",
       "      <td>66000</td>\n",
       "      <td>136630</td>\n",
       "    </tr>\n",
       "    <tr>\n",
       "      <th>2</th>\n",
       "      <td>66900</td>\n",
       "      <td>67500</td>\n",
       "      <td>67700</td>\n",
       "      <td>66700</td>\n",
       "      <td>155450</td>\n",
       "    </tr>\n",
       "    <tr>\n",
       "      <th>3</th>\n",
       "      <td>68100</td>\n",
       "      <td>67300</td>\n",
       "      <td>68500</td>\n",
       "      <td>67200</td>\n",
       "      <td>138430</td>\n",
       "    </tr>\n",
       "    <tr>\n",
       "      <th>4</th>\n",
       "      <td>68500</td>\n",
       "      <td>68100</td>\n",
       "      <td>69100</td>\n",
       "      <td>67100</td>\n",
       "      <td>96710</td>\n",
       "    </tr>\n",
       "    <tr>\n",
       "      <th>...</th>\n",
       "      <td>...</td>\n",
       "      <td>...</td>\n",
       "      <td>...</td>\n",
       "      <td>...</td>\n",
       "      <td>...</td>\n",
       "    </tr>\n",
       "    <tr>\n",
       "      <th>6705</th>\n",
       "      <td>59800</td>\n",
       "      <td>60000</td>\n",
       "      <td>60300</td>\n",
       "      <td>59600</td>\n",
       "      <td>10482149</td>\n",
       "    </tr>\n",
       "    <tr>\n",
       "      <th>6706</th>\n",
       "      <td>59900</td>\n",
       "      <td>59200</td>\n",
       "      <td>60200</td>\n",
       "      <td>59100</td>\n",
       "      <td>10611939</td>\n",
       "    </tr>\n",
       "    <tr>\n",
       "      <th>6707</th>\n",
       "      <td>61300</td>\n",
       "      <td>60800</td>\n",
       "      <td>61300</td>\n",
       "      <td>60600</td>\n",
       "      <td>14090110</td>\n",
       "    </tr>\n",
       "    <tr>\n",
       "      <th>6708</th>\n",
       "      <td>60200</td>\n",
       "      <td>61100</td>\n",
       "      <td>61200</td>\n",
       "      <td>60200</td>\n",
       "      <td>9618009</td>\n",
       "    </tr>\n",
       "    <tr>\n",
       "      <th>6709</th>\n",
       "      <td>60200</td>\n",
       "      <td>60500</td>\n",
       "      <td>60700</td>\n",
       "      <td>60200</td>\n",
       "      <td>3218819</td>\n",
       "    </tr>\n",
       "  </tbody>\n",
       "</table>\n",
       "<p>6710 rows × 5 columns</p>\n",
       "</div>"
      ],
      "text/plain": [
       "         종가     시가     고가     저가       거래량\n",
       "0     67500  66500  68300  65600    112960\n",
       "1     67700  67600  67900  66000    136630\n",
       "2     66900  67500  67700  66700    155450\n",
       "3     68100  67300  68500  67200    138430\n",
       "4     68500  68100  69100  67100     96710\n",
       "...     ...    ...    ...    ...       ...\n",
       "6705  59800  60000  60300  59600  10482149\n",
       "6706  59900  59200  60200  59100  10611939\n",
       "6707  61300  60800  61300  60600  14090110\n",
       "6708  60200  61100  61200  60200   9618009\n",
       "6709  60200  60500  60700  60200   3218819\n",
       "\n",
       "[6710 rows x 5 columns]"
      ]
     },
     "execution_count": 70,
     "metadata": {},
     "output_type": "execute_result"
    }
   ],
   "source": [
    "X"
   ]
  },
  {
   "cell_type": "code",
   "execution_count": 71,
   "id": "ab126517",
   "metadata": {},
   "outputs": [
    {
     "data": {
      "text/plain": [
       "0       67500\n",
       "1       67700\n",
       "2       66900\n",
       "3       68100\n",
       "4       68500\n",
       "        ...  \n",
       "6705    59800\n",
       "6706    59900\n",
       "6707    61300\n",
       "6708    60200\n",
       "6709    60200\n",
       "Name: 종가, Length: 6710, dtype: int64"
      ]
     },
     "execution_count": 71,
     "metadata": {},
     "output_type": "execute_result"
    }
   ],
   "source": [
    "y"
   ]
  },
  {
   "cell_type": "code",
   "execution_count": 72,
   "id": "0093dd71",
   "metadata": {},
   "outputs": [
    {
     "data": {
      "text/plain": [
       "6710"
      ]
     },
     "execution_count": 72,
     "metadata": {},
     "output_type": "execute_result"
    }
   ],
   "source": [
    "len(X)"
   ]
  },
  {
   "cell_type": "code",
   "execution_count": 73,
   "id": "2beebf6d",
   "metadata": {},
   "outputs": [
    {
     "data": {
      "text/plain": [
       "6710"
      ]
     },
     "execution_count": 73,
     "metadata": {},
     "output_type": "execute_result"
    }
   ],
   "source": [
    "len(y)"
   ]
  },
  {
   "cell_type": "code",
   "execution_count": 74,
   "id": "b607d806",
   "metadata": {},
   "outputs": [],
   "source": [
    "X = X.to_numpy()\n",
    "y = y.to_numpy()"
   ]
  },
  {
   "cell_type": "code",
   "execution_count": 75,
   "id": "5f477904",
   "metadata": {},
   "outputs": [
    {
     "data": {
      "text/plain": [
       "array([[   67500,    66500,    68300,    65600,   112960],\n",
       "       [   67700,    67600,    67900,    66000,   136630],\n",
       "       [   66900,    67500,    67700,    66700,   155450],\n",
       "       ...,\n",
       "       [   61300,    60800,    61300,    60600, 14090110],\n",
       "       [   60200,    61100,    61200,    60200,  9618009],\n",
       "       [   60200,    60500,    60700,    60200,  3218819]], dtype=int64)"
      ]
     },
     "execution_count": 75,
     "metadata": {},
     "output_type": "execute_result"
    }
   ],
   "source": [
    "X"
   ]
  },
  {
   "cell_type": "code",
   "execution_count": 76,
   "id": "8826ccf2",
   "metadata": {},
   "outputs": [
    {
     "data": {
      "text/plain": [
       "array([67500, 67700, 66900, ..., 61300, 60200, 60200], dtype=int64)"
      ]
     },
     "execution_count": 76,
     "metadata": {},
     "output_type": "execute_result"
    }
   ],
   "source": [
    "y"
   ]
  },
  {
   "cell_type": "code",
   "execution_count": 77,
   "id": "7c1e8b36",
   "metadata": {},
   "outputs": [
    {
     "data": {
      "text/plain": [
       "0.9971738359740144"
      ]
     },
     "execution_count": 77,
     "metadata": {},
     "output_type": "execute_result"
    }
   ],
   "source": [
    "X_train, X_test, y_train, y_test = train_test_split(X, y, test_size = 0.2)\n",
    "\n",
    "mean = np.mean(X_train, axis=0)\n",
    "std = np.std(X_train, axis=0)\n",
    "\n",
    "X_train_scaled = (X_train - mean) / std\n",
    "X_test_scaled = (X_test - mean) / std\n",
    "\n",
    "model = KNeighborsRegressor()\n",
    "model.fit(X_train_scaled, y_train)\n",
    "model.score(X_test_scaled, y_test)"
   ]
  },
  {
   "cell_type": "markdown",
   "id": "e098330a",
   "metadata": {},
   "source": [
    "KNeighborsRegressor를 통해 예측한 결과, 99%를 넘는 정확도를 나타내고 있다"
   ]
  },
  {
   "cell_type": "code",
   "execution_count": 78,
   "id": "d8232151",
   "metadata": {},
   "outputs": [
    {
     "data": {
      "text/plain": [
       "array([  45300,  556000, 2369000,   75100,  470500,  593000,  746000,\n",
       "         80100, 1291000, 1250000], dtype=int64)"
      ]
     },
     "execution_count": 78,
     "metadata": {},
     "output_type": "execute_result"
    }
   ],
   "source": [
    "y_test[:10]"
   ]
  },
  {
   "cell_type": "code",
   "execution_count": 79,
   "id": "4338f079",
   "metadata": {},
   "outputs": [
    {
     "data": {
      "text/plain": [
       "array([  44120.,  554800., 2372200.,   75460.,  471900.,  593000.,\n",
       "        750600.,   79960., 1293200., 1251800.])"
      ]
     },
     "execution_count": 79,
     "metadata": {},
     "output_type": "execute_result"
    }
   ],
   "source": [
    "model.predict(X_test_scaled[:10])"
   ]
  },
  {
   "cell_type": "markdown",
   "id": "9fafef88",
   "metadata": {},
   "source": [
    "실제값과 예측값의 차이가 비슷한 것을 확인할 수 있다"
   ]
  },
  {
   "cell_type": "code",
   "execution_count": 80,
   "id": "0e026c6a",
   "metadata": {},
   "outputs": [
    {
     "data": {
      "text/plain": [
       "1.0"
      ]
     },
     "execution_count": 80,
     "metadata": {},
     "output_type": "execute_result"
    }
   ],
   "source": [
    "model = LinearRegression()\n",
    "model.fit(X_train_scaled, y_train)\n",
    "model.score(X_test_scaled, y_test)"
   ]
  },
  {
   "cell_type": "markdown",
   "id": "a75b61b1",
   "metadata": {},
   "source": [
    "LinearRegression을 통해 예측한 결과, 100%의 정확도를 나타내고 있다\n",
    "\n",
    "위의 결과와 같이 회귀모델 예측력이 높은 이유는 어제,오늘 가격의 등락폭이 심하지 않고 거의 비슷하기 때문에 높은 것이다"
   ]
  },
  {
   "cell_type": "markdown",
   "id": "e6f77bff",
   "metadata": {},
   "source": [
    "# ML 활용 등락 예측"
   ]
  },
  {
   "cell_type": "code",
   "execution_count": 81,
   "id": "7e0e5224",
   "metadata": {},
   "outputs": [
    {
     "data": {
      "text/html": [
       "<div>\n",
       "<style scoped>\n",
       "    .dataframe tbody tr th:only-of-type {\n",
       "        vertical-align: middle;\n",
       "    }\n",
       "\n",
       "    .dataframe tbody tr th {\n",
       "        vertical-align: top;\n",
       "    }\n",
       "\n",
       "    .dataframe thead th {\n",
       "        text-align: right;\n",
       "    }\n",
       "</style>\n",
       "<table border=\"1\" class=\"dataframe\">\n",
       "  <thead>\n",
       "    <tr style=\"text-align: right;\">\n",
       "      <th></th>\n",
       "      <th>종가</th>\n",
       "      <th>시가</th>\n",
       "      <th>고가</th>\n",
       "      <th>저가</th>\n",
       "      <th>거래량</th>\n",
       "    </tr>\n",
       "  </thead>\n",
       "  <tbody>\n",
       "    <tr>\n",
       "      <th>0</th>\n",
       "      <td>67500</td>\n",
       "      <td>66500</td>\n",
       "      <td>68300</td>\n",
       "      <td>65600</td>\n",
       "      <td>112960</td>\n",
       "    </tr>\n",
       "    <tr>\n",
       "      <th>1</th>\n",
       "      <td>67700</td>\n",
       "      <td>67600</td>\n",
       "      <td>67900</td>\n",
       "      <td>66000</td>\n",
       "      <td>136630</td>\n",
       "    </tr>\n",
       "    <tr>\n",
       "      <th>2</th>\n",
       "      <td>66900</td>\n",
       "      <td>67500</td>\n",
       "      <td>67700</td>\n",
       "      <td>66700</td>\n",
       "      <td>155450</td>\n",
       "    </tr>\n",
       "    <tr>\n",
       "      <th>3</th>\n",
       "      <td>68100</td>\n",
       "      <td>67300</td>\n",
       "      <td>68500</td>\n",
       "      <td>67200</td>\n",
       "      <td>138430</td>\n",
       "    </tr>\n",
       "    <tr>\n",
       "      <th>4</th>\n",
       "      <td>68500</td>\n",
       "      <td>68100</td>\n",
       "      <td>69100</td>\n",
       "      <td>67100</td>\n",
       "      <td>96710</td>\n",
       "    </tr>\n",
       "    <tr>\n",
       "      <th>...</th>\n",
       "      <td>...</td>\n",
       "      <td>...</td>\n",
       "      <td>...</td>\n",
       "      <td>...</td>\n",
       "      <td>...</td>\n",
       "    </tr>\n",
       "    <tr>\n",
       "      <th>6705</th>\n",
       "      <td>59800</td>\n",
       "      <td>60000</td>\n",
       "      <td>60300</td>\n",
       "      <td>59600</td>\n",
       "      <td>10482149</td>\n",
       "    </tr>\n",
       "    <tr>\n",
       "      <th>6706</th>\n",
       "      <td>59900</td>\n",
       "      <td>59200</td>\n",
       "      <td>60200</td>\n",
       "      <td>59100</td>\n",
       "      <td>10611939</td>\n",
       "    </tr>\n",
       "    <tr>\n",
       "      <th>6707</th>\n",
       "      <td>61300</td>\n",
       "      <td>60800</td>\n",
       "      <td>61300</td>\n",
       "      <td>60600</td>\n",
       "      <td>14090110</td>\n",
       "    </tr>\n",
       "    <tr>\n",
       "      <th>6708</th>\n",
       "      <td>60200</td>\n",
       "      <td>61100</td>\n",
       "      <td>61200</td>\n",
       "      <td>60200</td>\n",
       "      <td>9618009</td>\n",
       "    </tr>\n",
       "    <tr>\n",
       "      <th>6709</th>\n",
       "      <td>60200</td>\n",
       "      <td>60500</td>\n",
       "      <td>60700</td>\n",
       "      <td>60200</td>\n",
       "      <td>3218819</td>\n",
       "    </tr>\n",
       "  </tbody>\n",
       "</table>\n",
       "<p>6710 rows × 5 columns</p>\n",
       "</div>"
      ],
      "text/plain": [
       "         종가     시가     고가     저가       거래량\n",
       "0     67500  66500  68300  65600    112960\n",
       "1     67700  67600  67900  66000    136630\n",
       "2     66900  67500  67700  66700    155450\n",
       "3     68100  67300  68500  67200    138430\n",
       "4     68500  68100  69100  67100     96710\n",
       "...     ...    ...    ...    ...       ...\n",
       "6705  59800  60000  60300  59600  10482149\n",
       "6706  59900  59200  60200  59100  10611939\n",
       "6707  61300  60800  61300  60600  14090110\n",
       "6708  60200  61100  61200  60200   9618009\n",
       "6709  60200  60500  60700  60200   3218819\n",
       "\n",
       "[6710 rows x 5 columns]"
      ]
     },
     "execution_count": 81,
     "metadata": {},
     "output_type": "execute_result"
    }
   ],
   "source": [
    "df2 = df[['종가','시가','고가','저가','거래량']]\n",
    "df2"
   ]
  },
  {
   "cell_type": "code",
   "execution_count": 82,
   "id": "3528698d",
   "metadata": {},
   "outputs": [],
   "source": [
    "X = []\n",
    "y = []\n",
    "\n",
    "for i in range(len(df2) -1):\n",
    "    sample = list(df2.iloc[i])\n",
    "    X.append(sample)\n",
    "    if sample[0] < list(df2.iloc[i+1])[0]:\n",
    "        y.append(1) \n",
    "    else:\n",
    "        y.append(0)"
   ]
  },
  {
   "cell_type": "markdown",
   "id": "a3788e00",
   "metadata": {},
   "source": [
    "0과1을 통해 이전 가격으로 다음 가격 예측을 실시한다(상승 = 1, 하락 = 0)"
   ]
  },
  {
   "cell_type": "code",
   "execution_count": 83,
   "id": "f80c99a4",
   "metadata": {},
   "outputs": [],
   "source": [
    "X = np.array(X)\n",
    "y = np.array(y)\n",
    "\n",
    "X_train, X_test, y_train, y_test = train_test_split(X, y, test_size = 0.2)\n",
    "\n",
    "mean = np.mean(X_train, axis=0)\n",
    "std = np.std(X_train, axis=0)\n",
    "\n",
    "X_train_scaled = (X_train - mean) / std\n",
    "X_test_scaled = (X_test - mean) / std"
   ]
  },
  {
   "cell_type": "code",
   "execution_count": 84,
   "id": "925811a2",
   "metadata": {},
   "outputs": [
    {
     "name": "stdout",
     "output_type": "stream",
     "text": [
      "1 0.485096870342772\n",
      "2 0.5104321907600596\n",
      "3 0.5089418777943369\n",
      "4 0.5365126676602087\n",
      "5 0.511177347242921\n",
      "6 0.518628912071535\n",
      "7 0.5149031296572281\n",
      "8 0.5141579731743666\n",
      "9 0.5193740685543964\n",
      "10 0.5208643815201193\n",
      "11 0.526080476900149\n",
      "12 0.518628912071535\n",
      "13 0.5320417287630402\n",
      "14 0.5253353204172876\n",
      "15 0.5350223546944859\n",
      "16 0.5357675111773472\n",
      "17 0.5275707898658718\n",
      "18 0.5320417287630402\n",
      "19 0.5283159463487332\n"
     ]
    }
   ],
   "source": [
    "from sklearn.neighbors import KNeighborsClassifier \n",
    "\n",
    "for n in range(1,20):\n",
    "    model = KNeighborsClassifier(n_neighbors=n)\n",
    "    model.fit(X_train_scaled, y_train)\n",
    "    print(n, model.score(X_test_scaled, y_test))"
   ]
  },
  {
   "cell_type": "markdown",
   "id": "3cfc5c40",
   "metadata": {},
   "source": [
    "이웃의 개수가 16이 약 53%로 가장 높은 것을 알 수 있고, 상승/하락을 랜덤으로 예측하는 확률보다 3% 정도 높다"
   ]
  },
  {
   "cell_type": "code",
   "execution_count": 85,
   "id": "fb280932",
   "metadata": {},
   "outputs": [
    {
     "data": {
      "text/plain": [
       "0.5178837555886736"
      ]
     },
     "execution_count": 85,
     "metadata": {},
     "output_type": "execute_result"
    }
   ],
   "source": [
    "from sklearn.neighbors import KNeighborsClassifier\n",
    "from sklearn.linear_model import LogisticRegression\n",
    "from sklearn.tree import DecisionTreeClassifier\n",
    "from sklearn.ensemble import VotingClassifier\n",
    "\n",
    "model_list = [('KNN', KNeighborsClassifier()),\n",
    "              ('DT', DecisionTreeClassifier(max_depth=5)),\n",
    "             ('LR', LogisticRegression())]\n",
    "\n",
    "ensemble = VotingClassifier(estimators=model_list)\n",
    "ensemble.fit(X_train_scaled, y_train)\n",
    "ensemble.score(X_test_scaled, y_test)"
   ]
  },
  {
   "cell_type": "markdown",
   "id": "1971ea5b",
   "metadata": {},
   "source": [
    "모델의 예측력을 높이기 위해 KNeighborsClassifier, LogisticRegression, DecisionTreeClassifier 3개의 알고리즘을 활용해 실시한 결과, 랜덤 예측률보다 높지만 KNeighborsClassifier 1개의 알고리즘을 통해 예측한 것과 거의 비슷한 모습을 보이고 있다. 따라서, 1일 시점의 가격으로만 예측하는 것은 어렵고 여러 시점의 가격을 통해 예측력을 높일 필요가 있어보인다"
   ]
  },
  {
   "cell_type": "markdown",
   "id": "ee459287",
   "metadata": {},
   "source": [
    "# DL 활용 주가 예측"
   ]
  },
  {
   "cell_type": "code",
   "execution_count": 95,
   "id": "6004365a",
   "metadata": {},
   "outputs": [],
   "source": [
    "import pandas as pd\n",
    "import numpy as np\n",
    "from sklearn.model_selection import train_test_split\n",
    "from tensorflow import keras"
   ]
  },
  {
   "cell_type": "code",
   "execution_count": 87,
   "id": "cf700474",
   "metadata": {},
   "outputs": [],
   "source": [
    "X = df[['종가','시가','고가','저가','거래량']]\n",
    "y = df['종가']"
   ]
  },
  {
   "cell_type": "code",
   "execution_count": 88,
   "id": "18bde8c9",
   "metadata": {},
   "outputs": [],
   "source": [
    "X = X.values.tolist()\n",
    "y = y.values.tolist()"
   ]
  },
  {
   "cell_type": "code",
   "execution_count": 89,
   "id": "8a0a4766",
   "metadata": {},
   "outputs": [
    {
     "data": {
      "text/plain": [
       "array([[-9.03384452e-01, -9.05015204e-01, -9.05089554e-01,\n",
       "        -9.03632613e-01, -4.54366188e-01],\n",
       "       [-9.03056854e-01, -9.03209534e-01, -9.05740226e-01,\n",
       "        -9.02969746e-01, -4.50900659e-01],\n",
       "       [-9.04367247e-01, -9.03373685e-01, -9.06065563e-01,\n",
       "        -9.01809727e-01, -4.48145220e-01],\n",
       "       ...,\n",
       "       [-9.13540001e-01, -9.14371858e-01, -9.16476322e-01,\n",
       "        -9.11918457e-01,  1.59203078e+00],\n",
       "       [-9.15341791e-01, -9.13879403e-01, -9.16638990e-01,\n",
       "        -9.12581325e-01,  9.37269693e-01],\n",
       "       [-9.15341791e-01, -9.14864314e-01, -9.17452331e-01,\n",
       "        -9.12581325e-01,  3.63169586e-04]])"
      ]
     },
     "execution_count": 89,
     "metadata": {},
     "output_type": "execute_result"
    }
   ],
   "source": [
    "data_X = []\n",
    "data_y = []\n",
    "window = 10 \n",
    "\n",
    "mean = np.mean(X, axis=0)\n",
    "std = np.std(X, axis=0)\n",
    "\n",
    "X = (X - mean) / std\n",
    "X"
   ]
  },
  {
   "cell_type": "markdown",
   "id": "4be658e7",
   "metadata": {},
   "source": [
    "window 함수를 통해 10일의 데이터를 기준으로 그룹화한다"
   ]
  },
  {
   "cell_type": "code",
   "execution_count": 90,
   "id": "99efb858",
   "metadata": {},
   "outputs": [],
   "source": [
    "for i in range(len(y) - window):\n",
    "    if y[i+window-1] < y[i+window]:\n",
    "        data_y.append(1)\n",
    "    else:\n",
    "        data_y.append(0)\n",
    "    data_X.append(X[i:i + window]) "
   ]
  },
  {
   "cell_type": "code",
   "execution_count": 91,
   "id": "59272e5e",
   "metadata": {},
   "outputs": [
    {
     "data": {
      "text/plain": [
       "array([[-0.90338445, -0.9050152 , -0.90508955, -0.90363261, -0.45436619],\n",
       "       [-0.90305685, -0.90320953, -0.90574023, -0.90296975, -0.45090066],\n",
       "       [-0.90436725, -0.90337369, -0.90606556, -0.90180973, -0.44814522],\n",
       "       [-0.90240166, -0.90370199, -0.90476422, -0.90098114, -0.45063712],\n",
       "       [-0.90174646, -0.90238877, -0.90378821, -0.90114686, -0.45674535],\n",
       "       [-0.89601349, -0.90091141, -0.89858283, -0.89832967, -0.449337  ],\n",
       "       [-0.8945393 , -0.89598685, -0.8956548 , -0.89302673, -0.43045594],\n",
       "       [-0.89519449, -0.89450949, -0.89711882, -0.89352388, -0.45621535],\n",
       "       [-0.89617729, -0.89467364, -0.89744415, -0.89385532, -0.45907035],\n",
       "       [-0.89716008, -0.89598685, -0.89858283, -0.8946839 , -0.45949054]])"
      ]
     },
     "execution_count": 91,
     "metadata": {},
     "output_type": "execute_result"
    }
   ],
   "source": [
    "data_X[0]"
   ]
  },
  {
   "cell_type": "code",
   "execution_count": 92,
   "id": "af220935",
   "metadata": {},
   "outputs": [
    {
     "data": {
      "text/plain": [
       "1"
      ]
     },
     "execution_count": 92,
     "metadata": {},
     "output_type": "execute_result"
    }
   ],
   "source": [
    "data_y[0]"
   ]
  },
  {
   "cell_type": "markdown",
   "id": "32d5dad6",
   "metadata": {},
   "source": [
    "data_X의 10일 데이터 추세를 보고 위와 같은 추세가 나타난다면 다음날 종가는 상승하는 것으로 예측한다"
   ]
  },
  {
   "cell_type": "code",
   "execution_count": 93,
   "id": "88bdbbdc",
   "metadata": {},
   "outputs": [],
   "source": [
    "data_X = np.array(data_X)\n",
    "data_y = np.array(data_y)\n",
    "\n",
    "X_train, X_test, y_train, y_test = train_test_split(data_X, data_y, test_size = 0.2)"
   ]
  },
  {
   "cell_type": "code",
   "execution_count": 96,
   "id": "2883bb12",
   "metadata": {},
   "outputs": [
    {
     "name": "stdout",
     "output_type": "stream",
     "text": [
      "Epoch 1/1000\n",
      "168/168 [==============================] - 1s 2ms/step - loss: 0.7264 - accuracy: 0.5075 - val_loss: 0.6994 - val_accuracy: 0.4873\n",
      "Epoch 2/1000\n",
      "168/168 [==============================] - 0s 1ms/step - loss: 0.7059 - accuracy: 0.4931 - val_loss: 0.6988 - val_accuracy: 0.4881\n",
      "Epoch 3/1000\n",
      "168/168 [==============================] - 0s 1ms/step - loss: 0.6966 - accuracy: 0.5021 - val_loss: 0.6971 - val_accuracy: 0.4821\n",
      "Epoch 4/1000\n",
      "168/168 [==============================] - 0s 1ms/step - loss: 0.6956 - accuracy: 0.5166 - val_loss: 0.6949 - val_accuracy: 0.4896\n",
      "Epoch 5/1000\n",
      "168/168 [==============================] - 0s 1ms/step - loss: 0.6961 - accuracy: 0.5168 - val_loss: 0.6946 - val_accuracy: 0.4888\n",
      "Epoch 6/1000\n",
      "168/168 [==============================] - 0s 1ms/step - loss: 0.6949 - accuracy: 0.5149 - val_loss: 0.6941 - val_accuracy: 0.4963\n",
      "Epoch 7/1000\n",
      "168/168 [==============================] - 0s 1ms/step - loss: 0.6948 - accuracy: 0.5162 - val_loss: 0.6950 - val_accuracy: 0.4970\n",
      "Epoch 8/1000\n",
      "168/168 [==============================] - 0s 1ms/step - loss: 0.6951 - accuracy: 0.5166 - val_loss: 0.6944 - val_accuracy: 0.4978\n",
      "Epoch 9/1000\n",
      "168/168 [==============================] - 0s 1ms/step - loss: 0.6933 - accuracy: 0.5140 - val_loss: 0.6960 - val_accuracy: 0.4873\n",
      "Epoch 10/1000\n",
      "168/168 [==============================] - 0s 1ms/step - loss: 0.6932 - accuracy: 0.5172 - val_loss: 0.6944 - val_accuracy: 0.4978\n",
      "Epoch 11/1000\n",
      "168/168 [==============================] - 0s 1ms/step - loss: 0.6948 - accuracy: 0.5082 - val_loss: 0.6951 - val_accuracy: 0.4896\n",
      "Epoch 12/1000\n",
      "168/168 [==============================] - 0s 1ms/step - loss: 0.6941 - accuracy: 0.5205 - val_loss: 0.6960 - val_accuracy: 0.4903\n",
      "Epoch 13/1000\n",
      "168/168 [==============================] - 0s 1ms/step - loss: 0.6944 - accuracy: 0.5147 - val_loss: 0.6956 - val_accuracy: 0.4933\n",
      "Epoch 14/1000\n",
      "168/168 [==============================] - 0s 1ms/step - loss: 0.6940 - accuracy: 0.5076 - val_loss: 0.6940 - val_accuracy: 0.4963\n",
      "Epoch 15/1000\n",
      "168/168 [==============================] - 0s 1ms/step - loss: 0.6934 - accuracy: 0.5179 - val_loss: 0.6937 - val_accuracy: 0.4940\n",
      "Epoch 16/1000\n",
      "168/168 [==============================] - 0s 1ms/step - loss: 0.6932 - accuracy: 0.5069 - val_loss: 0.6942 - val_accuracy: 0.5090\n",
      "Epoch 17/1000\n",
      "168/168 [==============================] - 0s 1ms/step - loss: 0.6936 - accuracy: 0.5183 - val_loss: 0.6949 - val_accuracy: 0.5000\n",
      "Epoch 18/1000\n",
      "168/168 [==============================] - 0s 1ms/step - loss: 0.6930 - accuracy: 0.5228 - val_loss: 0.6943 - val_accuracy: 0.4955\n",
      "Epoch 19/1000\n",
      "168/168 [==============================] - 0s 1ms/step - loss: 0.6926 - accuracy: 0.5104 - val_loss: 0.6948 - val_accuracy: 0.4881\n",
      "Epoch 20/1000\n",
      "168/168 [==============================] - 0s 1ms/step - loss: 0.6922 - accuracy: 0.5147 - val_loss: 0.6944 - val_accuracy: 0.5022\n",
      "Epoch 21/1000\n",
      "168/168 [==============================] - 0s 1ms/step - loss: 0.6924 - accuracy: 0.5181 - val_loss: 0.6953 - val_accuracy: 0.5000\n",
      "Epoch 22/1000\n",
      "168/168 [==============================] - 0s 1ms/step - loss: 0.6927 - accuracy: 0.5170 - val_loss: 0.6949 - val_accuracy: 0.4925\n",
      "Epoch 23/1000\n",
      "168/168 [==============================] - 0s 1ms/step - loss: 0.6921 - accuracy: 0.5147 - val_loss: 0.6949 - val_accuracy: 0.5000\n",
      "Epoch 24/1000\n",
      "168/168 [==============================] - 0s 1ms/step - loss: 0.6927 - accuracy: 0.5187 - val_loss: 0.6946 - val_accuracy: 0.5022\n",
      "Epoch 25/1000\n",
      "168/168 [==============================] - 0s 1ms/step - loss: 0.6931 - accuracy: 0.5065 - val_loss: 0.6945 - val_accuracy: 0.5015\n"
     ]
    },
    {
     "data": {
      "text/plain": [
       "<keras.callbacks.History at 0x19712f05648>"
      ]
     },
     "execution_count": 96,
     "metadata": {},
     "output_type": "execute_result"
    }
   ],
   "source": [
    "model = keras.Sequential()\n",
    "model.add(keras.layers.SimpleRNN(10, activation = 'relu', input_shape = (10,5))) \n",
    "model.add(keras.layers.Dropout(0.1)) \n",
    "model.add(keras.layers.Dense(1, activation = 'sigmoid'))\n",
    "\n",
    "stop = keras.callbacks.EarlyStopping(patience=10, restore_best_weights=True)\n",
    "\n",
    "model.compile(loss = 'binary_crossentropy', optimizer = 'adam', metrics = 'accuracy')\n",
    "model.fit(X_train, y_train,\n",
    "         validation_data = (X_test, y_test),\n",
    "         epochs = 1000,\n",
    "         callbacks = [stop])"
   ]
  },
  {
   "cell_type": "markdown",
   "id": "d5b804bc",
   "metadata": {},
   "source": [
    "SimpleRNN(단기기억)을 통해 실시한 결과, 머신러닝의 정확도와 거의 비슷한 모습을 보이고 있다"
   ]
  },
  {
   "cell_type": "code",
   "execution_count": 98,
   "id": "00e04fcf",
   "metadata": {},
   "outputs": [
    {
     "name": "stdout",
     "output_type": "stream",
     "text": [
      "42/42 [==============================] - 0s 731us/step - loss: 0.6937 - accuracy: 0.4940\n"
     ]
    },
    {
     "data": {
      "text/plain": [
       "[0.6937428712844849, 0.49402984976768494]"
      ]
     },
     "execution_count": 98,
     "metadata": {},
     "output_type": "execute_result"
    }
   ],
   "source": [
    "model.evaluate(X_test, y_test)"
   ]
  },
  {
   "cell_type": "code",
   "execution_count": 80,
   "id": "40503638",
   "metadata": {},
   "outputs": [
    {
     "name": "stdout",
     "output_type": "stream",
     "text": [
      "Epoch 1/1000\n",
      "168/168 [==============================] - 1s 3ms/step - loss: 0.6939 - accuracy: 0.5039 - val_loss: 0.6923 - val_accuracy: 0.5187\n",
      "Epoch 2/1000\n",
      "168/168 [==============================] - 0s 2ms/step - loss: 0.6928 - accuracy: 0.5138 - val_loss: 0.6921 - val_accuracy: 0.5149\n",
      "Epoch 3/1000\n",
      "168/168 [==============================] - 0s 2ms/step - loss: 0.6927 - accuracy: 0.5140 - val_loss: 0.6921 - val_accuracy: 0.5172\n",
      "Epoch 4/1000\n",
      "168/168 [==============================] - 0s 2ms/step - loss: 0.6928 - accuracy: 0.5155 - val_loss: 0.6921 - val_accuracy: 0.5201\n",
      "Epoch 5/1000\n",
      "168/168 [==============================] - 0s 2ms/step - loss: 0.6927 - accuracy: 0.5093 - val_loss: 0.6921 - val_accuracy: 0.5194\n",
      "Epoch 6/1000\n",
      "168/168 [==============================] - 0s 2ms/step - loss: 0.6926 - accuracy: 0.5132 - val_loss: 0.6920 - val_accuracy: 0.5172\n",
      "Epoch 7/1000\n",
      "168/168 [==============================] - 0s 2ms/step - loss: 0.6927 - accuracy: 0.5147 - val_loss: 0.6920 - val_accuracy: 0.5157\n",
      "Epoch 8/1000\n",
      "168/168 [==============================] - 0s 2ms/step - loss: 0.6929 - accuracy: 0.5103 - val_loss: 0.6920 - val_accuracy: 0.5187\n",
      "Epoch 9/1000\n",
      "168/168 [==============================] - 0s 2ms/step - loss: 0.6927 - accuracy: 0.5125 - val_loss: 0.6921 - val_accuracy: 0.5194\n",
      "Epoch 10/1000\n",
      "168/168 [==============================] - 0s 2ms/step - loss: 0.6926 - accuracy: 0.5211 - val_loss: 0.6922 - val_accuracy: 0.5231\n",
      "Epoch 11/1000\n",
      "168/168 [==============================] - 0s 2ms/step - loss: 0.6927 - accuracy: 0.5095 - val_loss: 0.6921 - val_accuracy: 0.5201\n",
      "Epoch 12/1000\n",
      "168/168 [==============================] - 0s 2ms/step - loss: 0.6927 - accuracy: 0.5119 - val_loss: 0.6921 - val_accuracy: 0.5149\n",
      "Epoch 13/1000\n",
      "168/168 [==============================] - 0s 2ms/step - loss: 0.6926 - accuracy: 0.5159 - val_loss: 0.6921 - val_accuracy: 0.5209\n",
      "Epoch 14/1000\n",
      "168/168 [==============================] - 0s 2ms/step - loss: 0.6926 - accuracy: 0.5125 - val_loss: 0.6922 - val_accuracy: 0.5187\n",
      "Epoch 15/1000\n",
      "168/168 [==============================] - 0s 2ms/step - loss: 0.6925 - accuracy: 0.5200 - val_loss: 0.6920 - val_accuracy: 0.5187\n",
      "Epoch 16/1000\n",
      "168/168 [==============================] - 0s 2ms/step - loss: 0.6925 - accuracy: 0.5129 - val_loss: 0.6922 - val_accuracy: 0.5216\n"
     ]
    },
    {
     "data": {
      "text/plain": [
       "<keras.callbacks.History at 0x2a88e326a88>"
      ]
     },
     "execution_count": 80,
     "metadata": {},
     "output_type": "execute_result"
    }
   ],
   "source": [
    "model = keras.Sequential()\n",
    "model.add(keras.layers.LSTM(10, activation = 'relu', input_shape = (10,5))) \n",
    "model.add(keras.layers.Dropout(0.1)) \n",
    "model.add(keras.layers.Dense(1, activation = 'sigmoid')) \n",
    "\n",
    "stop = keras.callbacks.EarlyStopping(patience=10, restore_best_weights=True) \n",
    "\n",
    "model.compile(loss = 'binary_crossentropy', optimizer = 'adam', metrics = 'accuracy')\n",
    "model.fit(X_train, y_train,\n",
    "         validation_data = (X_test, y_test),\n",
    "         epochs = 1000,\n",
    "         callbacks = [stop])"
   ]
  },
  {
   "cell_type": "markdown",
   "id": "b1e82c02",
   "metadata": {},
   "source": [
    "LSTM(장기기억)을 통해 실시한 결과, 머신러닝과 RNN의 정확도와 거의 비슷한 모습을 보이고 있다"
   ]
  },
  {
   "cell_type": "code",
   "execution_count": 100,
   "id": "227ee819",
   "metadata": {},
   "outputs": [
    {
     "name": "stdout",
     "output_type": "stream",
     "text": [
      "42/42 [==============================] - 0s 683us/step - loss: 0.6937 - accuracy: 0.4940\n"
     ]
    },
    {
     "data": {
      "text/plain": [
       "[0.6937428712844849, 0.49402984976768494]"
      ]
     },
     "execution_count": 100,
     "metadata": {},
     "output_type": "execute_result"
    }
   ],
   "source": [
    "model.evaluate(X_test, y_test)"
   ]
  },
  {
   "cell_type": "markdown",
   "id": "52026d75",
   "metadata": {},
   "source": [
    "ML, DL의 모델 성능이 우수하더라도 주가 예측은 매우 어려운 것임을 확인할 수 있다. 하지만, 랜덤 예측률보다 약 2~3% 정도 높은 예측률을 나타내고 있기 때문에 추후 수익의 비율이 더욱 높아질 것이다"
   ]
  },
  {
   "cell_type": "markdown",
   "id": "831793da",
   "metadata": {},
   "source": [
    "성과측정은 기본 베이스 코드(위의 전체 코드)를 가지고 익월 데이터를 추가 업로드해서 성과비교가 필요하다. 예를 들어, 위의 데이터로 예측한 주가를 추후 주가 예측에 대한 적중률과 비교하는 것이 필요하다"
   ]
  }
 ],
 "metadata": {
  "kernelspec": {
   "display_name": "Python 3 (ipykernel)",
   "language": "python",
   "name": "python3"
  },
  "language_info": {
   "codemirror_mode": {
    "name": "ipython",
    "version": 3
   },
   "file_extension": ".py",
   "mimetype": "text/x-python",
   "name": "python",
   "nbconvert_exporter": "python",
   "pygments_lexer": "ipython3",
   "version": "3.7.13"
  }
 },
 "nbformat": 4,
 "nbformat_minor": 5
}
